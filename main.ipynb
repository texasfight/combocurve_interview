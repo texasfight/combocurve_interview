{
 "cells": [
  {
   "cell_type": "code",
   "execution_count": 1,
   "id": "84c65e44-a692-4290-9225-d288ba3a5ada",
   "metadata": {},
   "outputs": [
    {
     "name": "stderr",
     "output_type": "stream",
     "text": [
      "C:\\Users\\irvin\\anaconda3\\lib\\site-packages\\numpy\\_distributor_init.py:30: UserWarning: loaded more than 1 DLL from .libs:\n",
      "C:\\Users\\irvin\\anaconda3\\lib\\site-packages\\numpy\\.libs\\libopenblas.WCDJNK7YVMPZQ2ME2ZZHJJRJ3JIKNDB7.gfortran-win_amd64.dll\n",
      "C:\\Users\\irvin\\anaconda3\\lib\\site-packages\\numpy\\.libs\\libopenblas.XWYDX2IKJW2NMTWSFYNGFUWKQU3LYTCZ.gfortran-win_amd64.dll\n",
      "  warnings.warn(\"loaded more than 1 DLL from .libs:\"\n"
     ]
    }
   ],
   "source": [
    "import pandas as pd\n",
    "import matplotlib.pyplot as plt\n",
    "import numpy as np\n",
    "from scipy.optimize import differential_evolution\n",
    "from sklearn.metrics import mean_absolute_percentage_error, mean_squared_error"
   ]
  },
  {
   "cell_type": "code",
   "execution_count": 2,
   "id": "80612ec6-8f3e-412e-83c6-27ff52206bc4",
   "metadata": {},
   "outputs": [],
   "source": [
    "pd.options.mode.chained_assignment = None\n",
    "np.warnings.filterwarnings('ignore', category=np.VisibleDeprecationWarning)                 "
   ]
  },
  {
   "cell_type": "code",
   "execution_count": 3,
   "id": "ee866e23-5fab-425e-978f-061824a570f1",
   "metadata": {},
   "outputs": [
    {
     "data": {
      "text/html": [
       "<div>\n",
       "<style scoped>\n",
       "    .dataframe tbody tr th:only-of-type {\n",
       "        vertical-align: middle;\n",
       "    }\n",
       "\n",
       "    .dataframe tbody tr th {\n",
       "        vertical-align: top;\n",
       "    }\n",
       "\n",
       "    .dataframe thead th {\n",
       "        text-align: right;\n",
       "    }\n",
       "</style>\n",
       "<table border=\"1\" class=\"dataframe\">\n",
       "  <thead>\n",
       "    <tr style=\"text-align: right;\">\n",
       "      <th></th>\n",
       "      <th>API</th>\n",
       "      <th>year</th>\n",
       "      <th>month</th>\n",
       "      <th>oil</th>\n",
       "    </tr>\n",
       "  </thead>\n",
       "  <tbody>\n",
       "    <tr>\n",
       "      <th>0</th>\n",
       "      <td>A_30015420120000</td>\n",
       "      <td>2015</td>\n",
       "      <td>FEB</td>\n",
       "      <td>0</td>\n",
       "    </tr>\n",
       "    <tr>\n",
       "      <th>1</th>\n",
       "      <td>A_30015420120000</td>\n",
       "      <td>2015</td>\n",
       "      <td>MAR</td>\n",
       "      <td>5329</td>\n",
       "    </tr>\n",
       "    <tr>\n",
       "      <th>2</th>\n",
       "      <td>A_30015420120000</td>\n",
       "      <td>2015</td>\n",
       "      <td>APR</td>\n",
       "      <td>2996</td>\n",
       "    </tr>\n",
       "    <tr>\n",
       "      <th>3</th>\n",
       "      <td>A_30015420120000</td>\n",
       "      <td>2015</td>\n",
       "      <td>MAY</td>\n",
       "      <td>2369</td>\n",
       "    </tr>\n",
       "    <tr>\n",
       "      <th>4</th>\n",
       "      <td>A_30015420120000</td>\n",
       "      <td>2015</td>\n",
       "      <td>JUN</td>\n",
       "      <td>1957</td>\n",
       "    </tr>\n",
       "    <tr>\n",
       "      <th>...</th>\n",
       "      <td>...</td>\n",
       "      <td>...</td>\n",
       "      <td>...</td>\n",
       "      <td>...</td>\n",
       "    </tr>\n",
       "    <tr>\n",
       "      <th>3019</th>\n",
       "      <td>A_30015424970000</td>\n",
       "      <td>2018</td>\n",
       "      <td>JAN</td>\n",
       "      <td>1976</td>\n",
       "    </tr>\n",
       "    <tr>\n",
       "      <th>3020</th>\n",
       "      <td>A_30015424970000</td>\n",
       "      <td>2018</td>\n",
       "      <td>FEB</td>\n",
       "      <td>1650</td>\n",
       "    </tr>\n",
       "    <tr>\n",
       "      <th>3021</th>\n",
       "      <td>A_30015424970000</td>\n",
       "      <td>2018</td>\n",
       "      <td>MAR</td>\n",
       "      <td>1964</td>\n",
       "    </tr>\n",
       "    <tr>\n",
       "      <th>3022</th>\n",
       "      <td>A_30015424970000</td>\n",
       "      <td>2018</td>\n",
       "      <td>APR</td>\n",
       "      <td>1437</td>\n",
       "    </tr>\n",
       "    <tr>\n",
       "      <th>3023</th>\n",
       "      <td>A_30015424970000</td>\n",
       "      <td>2018</td>\n",
       "      <td>MAY</td>\n",
       "      <td>1963</td>\n",
       "    </tr>\n",
       "  </tbody>\n",
       "</table>\n",
       "<p>3024 rows × 4 columns</p>\n",
       "</div>"
      ],
      "text/plain": [
       "                   API  year month   oil\n",
       "0     A_30015420120000  2015   FEB     0\n",
       "1     A_30015420120000  2015   MAR  5329\n",
       "2     A_30015420120000  2015   APR  2996\n",
       "3     A_30015420120000  2015   MAY  2369\n",
       "4     A_30015420120000  2015   JUN  1957\n",
       "...                ...   ...   ...   ...\n",
       "3019  A_30015424970000  2018   JAN  1976\n",
       "3020  A_30015424970000  2018   FEB  1650\n",
       "3021  A_30015424970000  2018   MAR  1964\n",
       "3022  A_30015424970000  2018   APR  1437\n",
       "3023  A_30015424970000  2018   MAY  1963\n",
       "\n",
       "[3024 rows x 4 columns]"
      ]
     },
     "execution_count": 3,
     "metadata": {},
     "output_type": "execute_result"
    }
   ],
   "source": [
    "project_df = pd.read_csv(\"./project_data.csv\")\n",
    "project_df"
   ]
  },
  {
   "cell_type": "code",
   "execution_count": 4,
   "id": "01ad4f20-de67-434c-a562-274074d47509",
   "metadata": {},
   "outputs": [
    {
     "data": {
      "text/plain": [
       "55938"
      ]
     },
     "execution_count": 4,
     "metadata": {},
     "output_type": "execute_result"
    }
   ],
   "source": [
    "project_df[\"oil\"].max()"
   ]
  },
  {
   "cell_type": "code",
   "execution_count": 5,
   "id": "ebe2ea90-f8f0-4846-a125-48caa34237da",
   "metadata": {},
   "outputs": [],
   "source": [
    "well_list = project_df[\"API\"].unique()"
   ]
  },
  {
   "cell_type": "code",
   "execution_count": 6,
   "id": "aac9a65e-6d46-4794-a50b-cc3e93ddadeb",
   "metadata": {},
   "outputs": [],
   "source": [
    "month_dict = {\n",
    "    \"JAN\": 0,\n",
    "    \"FEB\": 1,\n",
    "    \"MAR\": 2,\n",
    "    \"APR\": 3,\n",
    "    \"MAY\": 4,\n",
    "    \"JUN\": 5,\n",
    "    \"JUL\": 6,\n",
    "    \"AUG\": 7,\n",
    "    \"SEP\": 8,\n",
    "    \"OCT\": 9,\n",
    "    \"NOV\": 10,\n",
    "    \"DEC\": 11\n",
    "}"
   ]
  },
  {
   "cell_type": "code",
   "execution_count": 7,
   "id": "92f8684f-993f-497d-81cd-2836f1495637",
   "metadata": {},
   "outputs": [],
   "source": [
    "def process_data(df: pd.DataFrame) -> bool:\n",
    "    if len(df) <= 5:\n",
    "        return False\n",
    "    df.loc[:, \"month\"] = df.loc[:, \"month\"].apply(lambda x: month_dict[x])\n",
    "    base_year = df[\"year\"].min()\n",
    "    df.loc[:, \"timestep\"] = df.loc[:, \"month\"] + (df.loc[:, \"year\"] - base_year) * 12\n",
    "    df.loc[:, \"timestep\"] = df.loc[:, \"timestep\"] - df.loc[:, \"timestep\"].min()\n",
    "    return True"
   ]
  },
  {
   "cell_type": "code",
   "execution_count": 8,
   "id": "868b7f68-f961-457d-bcf7-bf23fffa479e",
   "metadata": {},
   "outputs": [],
   "source": [
    "def generate_fit_loss(params: np.array, df: pd.DataFrame, loss_func: callable) -> float:\n",
    "    X = df[\"timestep\"]\n",
    "    y = df[\"oil\"]\n",
    "    preds = X.apply(fit_decline_curve, args=(params, ))\n",
    "    return loss_func(y, preds)"
   ]
  },
  {
   "cell_type": "code",
   "execution_count": 9,
   "id": "9bde69c7-b8bd-47eb-98ed-99484264b2c1",
   "metadata": {},
   "outputs": [],
   "source": [
    "def fit_decline_curve(timestep, params: np.array) -> float:\n",
    "    \"\"\"\n",
    "    params:\n",
    "        0: q_0\n",
    "        1: D_0\n",
    "        2: D_1\n",
    "        3: b\n",
    "        4: t_1\n",
    "        \n",
    "    timestep: the timestep of the well\n",
    "    \"\"\"\n",
    "    q1 = params[0] * np.exp(params[1] * timestep)\n",
    "    if timestep > params[-1]:\n",
    "        return q1 / (1 + params[3] * params[2] * (timestep - params[-1])) ** (1/params[3])\n",
    "    else:\n",
    "        return q1    "
   ]
  },
  {
   "cell_type": "markdown",
   "id": "8edb2824-44ad-4c8d-ad1e-c24fe700ea31",
   "metadata": {},
   "source": [
    "We've successfully created a Data Processing function, along with a validation function that takes different loss functions to evaluate the loss on. Now let's run the scipy optimizer on each well to see what our wells get."
   ]
  },
  {
   "cell_type": "code",
   "execution_count": 10,
   "id": "486ed6fc-e857-4a09-b737-41ea4c6bcee2",
   "metadata": {},
   "outputs": [],
   "source": [
    "results_df = pd.DataFrame(columns=[\"score\", \"params\"], index=well_list)"
   ]
  },
  {
   "cell_type": "code",
   "execution_count": null,
   "id": "0c7d3caf-c469-4f51-9ba3-6875900fff51",
   "metadata": {
    "tags": []
   },
   "outputs": [],
   "source": [
    "%%time\n",
    "for well in well_list:\n",
    "    well_log = project_df[project_df[\"API\"] == well]\n",
    "    length_bool = process_data(well_log)\n",
    "    if not length_bool:\n",
    "        continue\n",
    "    bounds = ((0, well_log[\"oil\"].max()), (0, 3), (0, 3), (0, 1), (0, len(well_log)))\n",
    "    result = differential_evolution(generate_fit_loss, bounds, args=(well_log, mean_squared_error))\n",
    "    results_df.loc[well] = {\"score\": result.fun, \"params\": result.x}"
   ]
  },
  {
   "cell_type": "markdown",
   "id": "e8ce4d5c-b315-4bfc-a238-2868f6604419",
   "metadata": {},
   "source": [
    "At this point, it'd probably be smarter to unpack the parameters into their own columns, but it's easier to just leave them as they are and I'm trying to go quickly."
   ]
  },
  {
   "cell_type": "code",
   "execution_count": null,
   "id": "3d3fd4c1-2e28-42a9-8e56-5ed5bbb093dd",
   "metadata": {},
   "outputs": [],
   "source": [
    "plt.hist(results_df[\"score\"], bins=15)\n",
    "plt.title(\"MSE distribution of plots\")\n",
    "plt.xlabel(\"Mean Squared Error\")\n",
    "plt.ylabel(\"Density\")\n",
    "plt.show()"
   ]
  },
  {
   "cell_type": "code",
   "execution_count": null,
   "id": "cf7519f5-0681-46e4-a637-16901b029ec5",
   "metadata": {
    "tags": []
   },
   "outputs": [],
   "source": [
    "for idx, well in enumerate(well_list[:4]):\n",
    "    well_log = project_df[project_df[\"API\"] == well]\n",
    "    process_data(well_log)\n",
    "    fig, ax = plt.subplots()\n",
    "    ax.scatter(well_log[\"timestep\"], well_log[\"oil\"])\n",
    "    X = np.arange(0, len(well_log), .01)\n",
    "    params = results_df.loc[well, \"params\"]\n",
    "    vector_func = np.vectorize(fit_decline_curve, excluded=[\"params\"])\n",
    "    preds = vector_func(timestep=X, params=params)\n",
    "    ax.plot(X, preds)\n",
    "    ax.set_title(f\"Well {idx}: {well}\")\n",
    "    fig.savefig(f\"./{well}.png\")"
   ]
  },
  {
   "attachments": {
    "38e91a90-b0fd-48a7-ab4f-6a2146172642.png": {
     "image/png": "[encoded data removed]"
    },
    "de12e059-d209-48a2-9c1e-66f75f163cd4.png": {
     "image/png": "[encoded data removed]"
    }
   },
   "cell_type": "markdown",
   "id": "6de55563-a8c1-4694-8b63-96f1394e45c9",
   "metadata": {},
   "source": [
    "## Loss Discussion\n",
    "\n",
    "For my loss function, I played around with MAPE, but got truly terrible plots as shown: ![MAPE_0.png](attachment:38e91a90-b0fd-48a7-ab4f-6a2146172642.png)![MAPE_1.png](attachment:de12e059-d209-48a2-9c1e-66f75f163cd4.png)\n",
    "\n",
    "In the end, I decided to use MSE. Something like MAPE or MSlogE would make sense as the functions have an exponential component, but it seems that they're not properly penalizing when trying to fit the larger values, as there can be a large amount of near-0 values towards the end of production."
   ]
  },
  {
   "cell_type": "markdown",
   "id": "be04cfdd-68bf-413b-9522-1b743ace2ced",
   "metadata": {},
   "source": [
    "## Outlier Detection\n",
    "\n",
    "I struggled mightily with this and ended up unable to find a decent idea for masking outliers due to the piecewise nature of the data and the fact that we need to identify outliers prior to modelling. Obviously we could do the immoral thing and rip out high-MSE points after fitting to try and reduce error, but that would be a leakage of data. \n",
    "\n",
    "My alternative idea was to set a moving mask where the point must not be less than 5% of the prior value or more than 200% of the prior value. This would not work in practice though, as shown in Well 3, at times the production is fairly low, then just drops to 0. This makes sense if the well is near-dry and would effectively remove many of our points"
   ]
  },
  {
   "cell_type": "markdown",
   "id": "954c4ab8-ccc7-46fa-959c-7e2b9c43994f",
   "metadata": {},
   "source": [
    "## Model Evaluation\n",
    "\n",
    "I believe that MAPE or MSlogE or even R^2 when log-transforming the oil production outputs would make a lot of sense. Since the functions are working at least partially in log space and otherwise in an effective inverse root space, perhaps MSE would be a good baseline metric to evaluate since we are working with a piece-wise function for the flowrates."
   ]
  },
  {
   "cell_type": "code",
   "execution_count": null,
   "id": "e746971f-a684-4887-bd9b-af1816b07708",
   "metadata": {},
   "outputs": [],
   "source": []
  }
 ],
 "metadata": {
  "kernelspec": {
   "display_name": "Python 3",
   "language": "python",
   "name": "python3"
  },
  "language_info": {
   "codemirror_mode": {
    "name": "ipython",
    "version": 3
   },
   "file_extension": ".py",
   "mimetype": "text/x-python",
   "name": "python",
   "nbconvert_exporter": "python",
   "pygments_lexer": "ipython3",
   "version": "3.8.11"
  }
 },
 "nbformat": 4,
 "nbformat_minor": 5
}
